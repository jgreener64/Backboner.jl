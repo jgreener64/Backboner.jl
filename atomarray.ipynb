{
 "cells": [
  {
   "cell_type": "code",
   "execution_count": 19,
   "metadata": {},
   "outputs": [
    {
     "name": "stderr",
     "output_type": "stream",
     "text": [
      "\u001b[32m\u001b[1m  Activating\u001b[22m\u001b[39m project at `c:\\Users\\anton\\.julia\\dev\\Backboner`\n"
     ]
    }
   ],
   "source": [
    "import Pkg; Pkg.activate(\".\")\n",
    "import StaticArrays: SizedArray\n",
    "\n",
    "struct SizedArrayArray{S <: Tuple, T, D, N, M, A <: AbstractArray{T, M}} <: AbstractArray{SizedArray{S, T, D}, N}\n",
    "    data::A\n",
    "\n",
    "    function SizedArrayArray{S, T, D, N, M, A}(data::A) where {S, T, D, N, M, A}\n",
    "        @assert length(fieldnames(S)) == D\n",
    "        @assert D + N == M\n",
    "        @assert Tuple{size(data)[begin:D]...} == S\n",
    "        return new{S, T, D, N, M, A}(data)\n",
    "    end\n",
    "end\n",
    "\n",
    "Base.size(a::SizedArrayArray{S, T, D}) where {S, T, D} = size(a.data)[begin+D:end]\n",
    "Base.length(a::SizedArrayArray) = prod(size(a))\n",
    "\n",
    "Base.getindex(a::SizedArrayArray{S, T, D, N}, i::Vararg{Int, N}) where {S, T, D, N} = SizedArray{S}(a.data[ntuple(_ -> :, D)..., i...])\n",
    "Base.getindex(a::SizedArrayArray{S, T, D, N}, i::Vararg{I, N}) where {S, T, D, N, I} = SizedArrayArray{S}(a.data[ntuple(_ -> :, D)..., i...])\n",
    "\n",
    "const SizedScalarArray = SizedArrayArray{Tuple{}}\n",
    "const SizedVectorArray{S1} = SizedArrayArray{Tuple{S1}}\n",
    "const SizedMatrixArray{S1, S2} = SizedArrayArray{Tuple{S1, S2}}\n",
    "\n",
    "SizedArrayArray{S, T, D, N, M}(data::A) where {S, T, D, N, M, A <: AbstractArray{T, M}} = SizedArrayArray{S, T, D, N, M, A}(data)\n",
    "SizedArrayArray{S, T, D, N}(data::A) where {S, T, D, N, M, A <: AbstractArray{T, M}} = SizedArrayArray{S, T, D, N, M, A}(data)\n",
    "SizedArrayArray{S, T, D}(data::A) where {S, T, D, M, A <: AbstractArray{T, M}} = SizedArrayArray{S, T, D, M-D, M, A}(data)\n",
    "SizedArrayArray{S, T}(data::A) where {S, T, M, A <: AbstractArray{T, M}} = SizedArrayArray{S, T, length(fieldnames(S))}(data)\n",
    "SizedArrayArray{S}(data::A) where {S, T, M, A <: AbstractArray{T, M}} = SizedArrayArray{S, T, length(fieldnames(S))}(data)"
   ]
  },
  {
   "cell_type": "code",
   "execution_count": 25,
   "metadata": {},
   "outputs": [],
   "source": [
    "using ElasticArrays"
   ]
  },
  {
   "cell_type": "code",
   "execution_count": 31,
   "metadata": {},
   "outputs": [
    {
     "data": {
      "text/plain": [
       "4×1 SizedVectorArray{3, Float64, 1, 2, 3, ElasticArray{Float64, 3, 2, Vector{Float64}}}:\n",
       " [0.30367556157737097, 0.8091795817111114, 0.7437286572445124]\n",
       " [0.25760222978775404, 0.07298155248376759, 0.029288292540398664]\n",
       " [0.4153626212868472, 0.4307139822363796, 0.11773111529712221]\n",
       " [0.6519049377680018, 0.05250210182117865, 0.7588828660185403]"
      ]
     },
     "metadata": {},
     "output_type": "display_data"
    }
   ],
   "source": [
    "arr = ElasticArray(rand(3, 4, 5))"
   ]
  },
  {
   "cell_type": "code",
   "execution_count": 43,
   "metadata": {},
   "outputs": [
    {
     "data": {
      "text/plain": [
       "4×2 SizedVectorArray{3, Float64, 1, 2, 3, ElasticArray{Float64, 3, 2, Vector{Float64}}}:\n",
       " [0.303676, 0.80918, 0.743729]     [0.817606, 0.386322, 0.558427]\n",
       " [0.257602, 0.0729816, 0.0292883]  [0.736439, 0.000673402, 0.0586152]\n",
       " [0.415363, 0.430714, 0.117731]    [0.357725, 0.697498, 0.659686]\n",
       " [0.651905, 0.0525021, 0.758883]   [0.648446, 0.822351, 0.448914]"
      ]
     },
     "metadata": {},
     "output_type": "display_data"
    }
   ],
   "source": [
    "SizedVectorArray{3}(arr)[1:8]"
   ]
  },
  {
   "cell_type": "code",
   "execution_count": 3,
   "metadata": {},
   "outputs": [
    {
     "name": "stderr",
     "output_type": "stream",
     "text": [
      "\u001b[32m\u001b[1m  Activating\u001b[22m\u001b[39m project at `c:\\Users\\anton\\.julia\\dev\\Backboner`\n"
     ]
    }
   ],
   "source": [
    "import Pkg; Pkg.activate(\".\")\n",
    "import StaticArrays: SizedArray\n",
    "\n",
    "struct SizedArrayArray{S <: Tuple, T, D, N, M, A <: AbstractArray{T, M}} <: AbstractArray{E{S, T, D}, N}\n",
    "    data::A\n",
    "\n",
    "    function SizedArrayArray{E, S, T, D, N, M, A}(data::A) where {E, S, T, D, N, M, A}\n",
    "        @assert length(fieldnames(S)) == D\n",
    "        @assert D + N == M\n",
    "        @assert Tuple{size(data)[begin:D]...} == S\n",
    "        return new{E, S, T, D, N, M, A}(data)\n",
    "    end\n",
    "end\n",
    "\n",
    "Base.size(a::SizedArrayArray{E, S, T, D}) where {E, S, T, D} = size(a.data)[begin+D:end]\n",
    "Base.length(a::SizedArrayArray) = prod(size(a))\n",
    "\n",
    "Base.getindex(a::SizedArrayArray{S, T, D, N}, i::Vararg{Int, N}) where {E, S, T, D, N} = SizedArrayArray{S}(a.data[ntuple(_ -> :, D)..., i...])\n",
    "\n",
    "const StaticScalarArray{E} = StaticArrayArray{E, Tuple{}}\n",
    "const StaticVectorArray{E} = StaticArrayArray{E, Tuple{S1}} where S1\n",
    "const StaticMatrixArray{E} = StaticArrayArray{E, Tuple{S1, S2}} where {S1, S2}\n",
    "\n",
    "const SArrayArray = StaticArrayArray{SArray}\n",
    "const SVectorArray = StaticVectorArray{SArray}\n",
    "const SMatrixArray = StaticMatrixArray{SArray}\n",
    "\n",
    "const MArrayArray = StaticArrayArray{MArray}\n",
    "const MVectorArray = StaticVectorArray{MArray}\n",
    "const MMatrixArray = StaticMatrixArray{MArray}\n",
    "\n",
    "StaticArrayArray{E, S, T, D, N, M}(data::A) where {E, S, T, D, N, M, A <: AbstractArray{T, M}} = StaticArrayArray{E, S, T, D, N, M, A}(data)\n",
    "StaticArrayArray{E, S, T, D, N}(data::A) where {E, S, T, D, N, M, A <: AbstractArray{T, M}} = StaticArrayArray{E, S, T, D, N, M, A}(data)\n",
    "StaticArrayArray{E, S, T, D}(data::A) where {E, S, T, D, M, A <: AbstractArray{T, M}} = StaticArrayArray{E, S, T, D, M-D, M, A}(data)\n",
    "StaticArrayArray{E, S, T}(data::A) where {E, S, T, M, A <: AbstractArray{T, M}} = StaticArrayArray{E, S, T, length(fieldnames(S))}(data)\n",
    "StaticArrayArray{E, S}(data::A) where {E, S, T, M, A <: AbstractArray{T, M}} = StaticArrayArray{E, S, T, length(fieldnames(S))}(data)"
   ]
  },
  {
   "cell_type": "code",
   "execution_count": 5,
   "metadata": {},
   "outputs": [
    {
     "data": {
      "text/plain": [
       "4×3 StaticArrayArray{MArray, Tuple{3}, Float64, 1, 2, 3, Array{Float64, 3}}:\n",
       " [1.16747, -0.483165, -1.097]      …  [-1.45628, 0.116184, 0.545559]\n",
       " [-0.695683, -0.986132, 0.143443]     [1.71065, -0.806283, -1.81569]\n",
       " [-0.171789, -1.11281, -0.932491]     [0.670608, -0.92642, -1.24441]\n",
       " [1.23742, 1.25478, 0.461068]         [-0.215582, -0.064845, -1.24296]"
      ]
     },
     "metadata": {},
     "output_type": "display_data"
    }
   ],
   "source": [
    "MVectorArray{3}(randn(3, 4, 3))"
   ]
  },
  {
   "cell_type": "code",
   "execution_count": 3,
   "metadata": {},
   "outputs": [
    {
     "name": "stderr",
     "output_type": "stream",
     "text": [
      "\u001b[32m\u001b[1m  Activating\u001b[22m\u001b[39m project at `c:\\Users\\anton\\.julia\\dev\\Backboner`\n"
     ]
    },
    {
     "data": {
      "text/plain": [
       "MMatrixArray\u001b[90m (alias for \u001b[39m\u001b[90mMArrayArray{Tuple{S1, S2}} where {S1, S2}\u001b[39m\u001b[90m)\u001b[39m"
      ]
     },
     "metadata": {},
     "output_type": "display_data"
    }
   ],
   "source": [
    "import Pkg; Pkg.activate(\".\")\n",
    "import StaticArrays: StaticArray, SArray, MArray\n",
    "\n",
    "abstract type StaticArrayArray{S <: Tuple, T, D, E <: StaticArray{S, T, D}, N, M, A <: AbstractArray{T, M}} <: AbstractArray{E, N} end\n",
    "\n",
    "const StaticScalarArray = StaticArrayArray{Tuple{}}\n",
    "const StaticVectorArray = StaticArrayArray{Tuple{S1}} where S1\n",
    "const StaticMatrixArray = StaticArrayArray{Tuple{S1, S2}} where {S1, S2}\n",
    "\n",
    "Base.size(a::StaticArrayArray{S, T, D}) where {S, T, D} = size(a.data)[begin+D:end]\n",
    "Base.length(a::StaticArrayArray) = prod(size(a))\n",
    "\n",
    "Base.getindex(a::StaticArrayArray{S, T, D, E, N}, i::Vararg{Int, N}) where {S, T, D, E, N} = E(a.data[ntuple(_ -> :, D)..., i...])\n",
    "\n",
    "struct SArrayArray{S, T, D, N, M, A} <: StaticArrayArray{S, T, D, SArray{S, T, D}, N, M, A}\n",
    "    data::A\n",
    "\n",
    "    function SArrayArray{S, T, D, N, M, A}(data::A) where {S, T, D, N, M, A}\n",
    "        @assert length(fieldnames(S)) == D\n",
    "        @assert D + N == M\n",
    "        @assert Tuple{size(data)[begin:D]...} == S\n",
    "        return new{S, T, D, N, M, A}(data)\n",
    "    end\n",
    "end\n",
    "\n",
    "const SVectorArray = SArrayArray{Tuple{S1}} where S1\n",
    "const SMatrixArray = SArrayArray{Tuple{S1, S2}} where {S1, S2}\n",
    "\n",
    "SArrayArray{S, T, D, N, M}(data::A) where {S <: Tuple, T, D, N, M, A <: AbstractArray{T, M}} = SArrayArray{S, T, D, N, M, A}(data)\n",
    "SArrayArray{S, T, D, N}(data::A) where {S <: Tuple, T, D, N, M, A <: AbstractArray{T, M}} = SArrayArray{S, T, D, N, M, A}(data)\n",
    "SArrayArray{S, T, D}(data::A) where {S <: Tuple, T, D, M, A <: AbstractArray{T, M}} = SArrayArray{S, T, D, M-D, M, A}(data)\n",
    "SArrayArray{S, T}(data::A) where {S <: Tuple, T, M, A <: AbstractArray{T, M}} = SArrayArray{S, T, length(fieldnames(S))}(data)\n",
    "SArrayArray{S}(data::A) where {S <: Tuple, T, M, A <: AbstractArray{T, M}} = SArrayArray{S, T, length(fieldnames(S))}(data)\n",
    "\n",
    "struct MArrayArray{S, T, D, N, M, A} <: StaticArrayArray{S, T, D, MArray{S, T, D}, N, M, A}\n",
    "    data::A\n",
    "\n",
    "    function MArrayArray{S, T, D, N, M, A}(data::A) where {S, T, D, N, M, A}\n",
    "        @assert length(fieldnames(S)) == D\n",
    "        @assert D + N == M\n",
    "        @assert Tuple{size(data)[begin:D]...} == S\n",
    "        return new{S, T, D, N, M, A}(data)\n",
    "    end\n",
    "end\n",
    "\n",
    "const MVectorArray = MArrayArray{Tuple{S1}} where S1\n",
    "const MMatrixArray = MArrayArray{Tuple{S1, S2}} where {S1, S2}\n",
    "\n",
    "MArrayArray{S, T, D, N, M}(data::A) where {S <: Tuple, T, D, N, M, A <: AbstractArray{T, M}} = MArrayArray{S, T, D, N, M, A}(data)\n",
    "MArrayArray{S, T, D, N}(data::A) where {S <: Tuple, T, D, N, M, A <: AbstractArray{T, M}} = MArrayArray{S, T, D, N, M, A}(data)\n",
    "MArrayArray{S, T, D}(data::A) where {S <: Tuple, T, D, M, A <: AbstractArray{T, M}} = MArrayArray{S, T, D, M-D, M, A}(data)\n",
    "MArrayArray{S, T}(data::A) where {S <: Tuple, T, M, A <: AbstractArray{T, M}} = MArrayArray{S, T, length(fieldnames(S))}(data)\n",
    "MArrayArray{S}(data::A) where {S <: Tuple, T, M, A <: AbstractArray{T, M}} = MArrayArray{S, T, length(fieldnames(S))}(data)\n",
    "\n"
   ]
  },
  {
   "cell_type": "code",
   "execution_count": 4,
   "metadata": {},
   "outputs": [
    {
     "ename": "MethodError",
     "evalue": "MethodError: no method matching (MMatrixArray{2, 2})(::Array{Float64, 3})",
     "output_type": "error",
     "traceback": [
      "MethodError: no method matching (MMatrixArray{2, 2})(::Array{Float64, 3})\n",
      "\n",
      "Stacktrace:\n",
      " [1] top-level scope\n",
      "   @ c:\\Users\\anton\\.julia\\dev\\Backboner\\atomarray.ipynb:1"
     ]
    }
   ],
   "source": [
    "MMatrixArray{2,2}(rand(2,2,5))[1]"
   ]
  },
  {
   "cell_type": "code",
   "execution_count": null,
   "metadata": {},
   "outputs": [],
   "source": [
    "#=StaticVectorArray{L, T, N, M}(data::A) where {L, T, N, M, A <: AbstractArray{T, M}} = StaticVectorArray{L, T, N, M, A}(data)\n",
    "StaticVectorArray{L, T, N}(data::A) where {L, T, N, M, A <: AbstractArray{T, M}} = StaticVectorArray{L, T, N, M, A}(data)\n",
    "StaticVectorArray{L, T}(data::A) where {L, T, M, A <: AbstractArray{T, M}} = StaticVectorArray{L, T, M-1, M, A}(data)\n",
    "StaticVectorArray{L}(data::A) where {L, T, M, A <: AbstractArray{T, M}} = StaticVectorArray{L, T, M-1, M, A}(data)\n",
    "StaticVectorArray(data::A) where {T, M, A <: AbstractArray{T, M}} = StaticVectorArray{size(data, 1), T, M-1, M, A}(data)\n",
    "\n",
    "Base.size(svarr::StaticVectorArray) = size(svarr.data)[2:end]\n",
    "Base.length(svarr::StaticVectorArray) = prod(size(svarr))\n",
    "\n",
    "Base.getindex(svarr::StaticVectorArray{L, T, N}, i::Vararg{Integer, N}) where {L, T, N} = SVector{L}(svarr.data[:, i...])\n",
    "Base.getindex(svarr::StaticVectorArray{L, T, N}, i::Vararg{I, N}) where {L, T, N, I} = StaticVectorArray(svarr.data[:, i...])\n",
    "\n",
    "const StaticVectorVector{L, T} = StaticVectorArray{L, T, 1, 2}\n",
    "const StaticVectorMatrix{L, T} = StaticVectorArray{L, T, 2, 3}=#\n",
    "\n",
    "#=const ElasticStaticVectorArray{L, T, N, M} = StaticVectorArray{L, T, N, M, ElasticArray{T, M}}\n",
    "const ElasticVectorVector{L, T} = ElasticStaticVectorArray{L, T, 1, 2}\n",
    "const ElasticVectorMatrix{L, T} = ElasticStaticVectorArray{L, T, 2, 3}=#"
   ]
  },
  {
   "cell_type": "code",
   "execution_count": 3,
   "metadata": {},
   "outputs": [
    {
     "data": {
      "text/plain": [
       "4×5 StaticVectorMatrix{3, Float64, Array{Float64, 3}}:\n",
       " [0.267189, 0.827977, 0.452774]  …  [0.129369, 0.358353, 0.756318]\n",
       " [0.518613, 0.874833, 0.248162]     [0.579385, 0.179308, 0.216204]\n",
       " [0.726834, 0.802897, 0.67338]      [0.998116, 0.375895, 0.119089]\n",
       " [0.768937, 0.998551, 0.285985]     [0.323647, 0.771064, 0.968205]"
      ]
     },
     "metadata": {},
     "output_type": "display_data"
    }
   ],
   "source": [
    "StaticVectorArray(rand(3, 4, 5))"
   ]
  }
 ],
 "metadata": {
  "kernelspec": {
   "display_name": "Julia 1.10.0",
   "language": "julia",
   "name": "julia-1.10"
  },
  "language_info": {
   "file_extension": ".jl",
   "mimetype": "application/julia",
   "name": "julia",
   "version": "1.10.0"
  }
 },
 "nbformat": 4,
 "nbformat_minor": 2
}
