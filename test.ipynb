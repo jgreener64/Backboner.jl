{
 "cells": [
  {
   "cell_type": "code",
   "execution_count": 1,
   "metadata": {},
   "outputs": [
    {
     "name": "stderr",
     "output_type": "stream",
     "text": [
      "\u001b[32m\u001b[1m  Activating\u001b[22m\u001b[39m project at `c:\\Users\\anton\\.julia\\dev\\Backboner`"
     ]
    },
    {
     "name": "stderr",
     "output_type": "stream",
     "text": [
      "\n"
     ]
    }
   ],
   "source": [
    "import Pkg; Pkg.activate(\".\")"
   ]
  },
  {
   "cell_type": "code",
   "execution_count": 2,
   "metadata": {},
   "outputs": [],
   "source": [
    "using Revise, Backboner"
   ]
  },
  {
   "cell_type": "code",
   "execution_count": 5,
   "metadata": {},
   "outputs": [
    {
     "data": {
      "text/plain": [
       "Backboner.ProteinData.GeneralRecord(\"test/data/1ASS\", [1, 2, 3, 4, 5, 6, 7, 8, 9, 10  …  143, 144, 145, 146, 147, 148, 149, 150, 151, 152], [4294967361, 4294967361, 4294967361, 4294967361, 4294967361, 4294967361, 4294967361, 4294967361, 4294967361, 4294967361  …  4294967361, 4294967361, 4294967361, 4294967361, 4294967361, 4294967361, 4294967361, 4294967361, 4294967361, 4294967361], \"MSGIVIDKEKVHSKMPDVVKNAKIALIDSALEIKKTEIEAKVQISDPSKIQDFLNQETNTFKQMVEKIKKSGANVVLCQKGIDDVAQHYLAKEGIYAVRRVKKSDMEKLAKATGAKIVTDLDDLTPSVLGEAETVEERKIGDDRMTFVMGCK\", Float32[0.018729134 0.47250843 … 0.18738085 0.7909024; 0.44414482 -0.23609076 … 0.8265875 0.1012354; -0.44976684 -0.8485651 … 0.0025646165 0.5735463; 0.77465755 -0.030565958 … -0.5306929 0.1878016], Float32[4.708833 4.6095667 … 4.382133 4.4062; -0.28096667 -0.43519998 … -0.32233334 -0.3505333; 4.6222334 4.8996334 … 4.3655334 4.015267], Float32[4.7477 4.7424 4.6363997; -0.2789 -0.24319999 -0.3208; 4.4997 4.6442003 4.7228003;;; 4.6834 4.5955 4.5498; -0.4162 -0.49260002 -0.39679998; 4.8037 4.8911 5.0041;;; 4.5346003 4.4861 4.5189; -0.2694 -0.1619 -0.0154; 4.9611 5.0463 5.0215;;; … ;;; 4.2542 4.2709 4.2834997; -0.47509998 -0.5589 -0.47529998; 4.7043 4.5874 4.4630003;;; 4.3482 4.3634 4.4348; -0.3606 -0.2714 -0.33499998; 4.4793 4.3669 4.2504;;; 4.3639 4.4101 4.4446; -0.3389 -0.40170002 -0.311; 4.1376 4.0126 3.8956])"
      ]
     },
     "metadata": {},
     "output_type": "display_data"
    }
   ],
   "source": [
    "rec = ProteinData.GeneralRecord(\"test/data/1ASS.pdb\")"
   ]
  },
  {
   "cell_type": "code",
   "execution_count": null,
   "metadata": {},
   "outputs": [],
   "source": []
  }
 ],
 "metadata": {
  "kernelspec": {
   "display_name": "Julia 1.10.0",
   "language": "julia",
   "name": "julia-1.10"
  },
  "language_info": {
   "file_extension": ".jl",
   "mimetype": "application/julia",
   "name": "julia",
   "version": "1.10.0"
  }
 },
 "nbformat": 4,
 "nbformat_minor": 2
}
