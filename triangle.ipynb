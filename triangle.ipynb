{
 "cells": [
  {
   "cell_type": "code",
   "execution_count": 1,
   "metadata": {},
   "outputs": [
    {
     "data": {
      "text/plain": [
       "col_angles (generic function with 1 method)"
      ]
     },
     "metadata": {},
     "output_type": "display_data"
    }
   ],
   "source": [
    "function col_angles(a::Matrix{T}, b::Matrix{T}) where T <: Real\n",
    "    return acos.(clamp.(sum(a .* b, dims=1) ./ (sqrt.(sum(a.^2, dims=1)) .* sqrt.(sum(b.^2, dims=1))), -1.0, 1.0))\n",
    "end"
   ]
  },
  {
   "cell_type": "code",
   "execution_count": 22,
   "metadata": {},
   "outputs": [
    {
     "data": {
      "text/plain": [
       "3×3×1 Array{Float64, 3}:\n",
       "[:, :, 1] =\n",
       " -0.875924  -0.248014  1.12394\n",
       "  0.656301  -0.656302  0.0\n",
       "  0.0        0.0       0.0"
      ]
     },
     "metadata": {},
     "output_type": "display_data"
    }
   ],
   "source": [
    "STANDARD_TRIANGLE = [\n",
    "    -0.875924 -0.248014 1.12394;\n",
    "     0.656301 -0.656302 0.000;\n",
    "     0.000  0.000 0.000;;;\n",
    "]"
   ]
  },
  {
   "cell_type": "code",
   "execution_count": 23,
   "metadata": {},
   "outputs": [
    {
     "data": {
      "text/plain": [
       "([-0.62791; 1.3126030000000002; 0.0;;], [1.371954; 0.656302; 0.0;;])"
      ]
     },
     "metadata": {},
     "output_type": "display_data"
    }
   ],
   "source": [
    "Ns = STANDARD_TRIANGLE[:, 1, :]\n",
    "CAs = STANDARD_TRIANGLE[:, 2, :]\n",
    "Cs = STANDARD_TRIANGLE[:, 3, :]\n",
    "A, B = Ns .- CAs, Cs .- CAs"
   ]
  },
  {
   "cell_type": "code",
   "execution_count": 24,
   "metadata": {},
   "outputs": [
    {
     "data": {
      "text/plain": [
       "89.99999124959687"
      ]
     },
     "metadata": {},
     "output_type": "display_data"
    }
   ],
   "source": [
    "using LinearAlgebra\n",
    "acos(dot(A, B) / (norm(A) * norm(B))) |> rad2deg\n",
    "norm(A), norm(B)"
   ]
  }
 ],
 "metadata": {
  "kernelspec": {
   "display_name": "Julia 1.10.0",
   "language": "julia",
   "name": "julia-1.10"
  },
  "language_info": {
   "file_extension": ".jl",
   "mimetype": "application/julia",
   "name": "julia",
   "version": "1.10.0"
  }
 },
 "nbformat": 4,
 "nbformat_minor": 2
}
